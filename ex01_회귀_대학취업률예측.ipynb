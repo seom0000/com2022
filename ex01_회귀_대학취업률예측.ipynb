{
  "nbformat": 4,
  "nbformat_minor": 0,
  "metadata": {
    "colab": {
      "provenance": [],
      "mount_file_id": "1hvBYMeviDHRKClhPbyiGvWmrwirNGRjl",
      "authorship_tag": "ABX9TyP5VnwHi9biJc+hVXgPDAl8",
      "include_colab_link": true
    },
    "kernelspec": {
      "name": "python3",
      "display_name": "Python 3"
    },
    "language_info": {
      "name": "python"
    }
  },
  "cells": [
    {
      "cell_type": "markdown",
      "metadata": {
        "id": "view-in-github",
        "colab_type": "text"
      },
      "source": [
        "<a href=\"https://colab.research.google.com/github/seom0000/com2022/blob/main/ex01_%ED%9A%8C%EA%B7%80_%EB%8C%80%ED%95%99%EC%B7%A8%EC%97%85%EB%A5%A0%EC%98%88%EC%B8%A1.ipynb\" target=\"_parent\"><img src=\"https://colab.research.google.com/assets/colab-badge.svg\" alt=\"Open In Colab\"/></a>"
      ]
    },
    {
      "cell_type": "markdown",
      "source": [
        "### Uni-variate Regression\n",
        "1) 데이터 수집"
      ],
      "metadata": {
        "id": "eQOoCn6wKU-W"
      }
    },
    {
      "cell_type": "code",
      "execution_count": 1,
      "metadata": {
        "id": "UuXD4moeJcyG"
      },
      "outputs": [],
      "source": [
        "import pandas as pd\n",
        "import numpy as np\n",
        "import matplotlib.pyplot as plt"
      ]
    },
    {
      "cell_type": "code",
      "source": [
        "df = pd.read_csv('drive/MyDrive/2022 전산학_colab/univ_info_small.csv')"
      ],
      "metadata": {
        "id": "BfNTF7qKKCgA"
      },
      "execution_count": 2,
      "outputs": []
    },
    {
      "cell_type": "code",
      "source": [
        "# 1,2,3,4 열 중 하나라도 0인 값이 있는 행을 제거\n",
        "\n",
        "id_remove = df[ (df['전임교원 1인당 학생 수']==0) |\n",
        "               (df['취업률']==0) |\n",
        "               (df['전임교원 강의 담당 비율']==0) |\n",
        "               (df['취업률']==0)].index\n",
        "print(id_remove)"
      ],
      "metadata": {
        "colab": {
          "base_uri": "https://localhost:8080/"
        },
        "id": "x8zTgguMKiyv",
        "outputId": "a2bd72d8-8d9c-4de9-c1f9-c26d1eb9999e"
      },
      "execution_count": 4,
      "outputs": [
        {
          "output_type": "stream",
          "name": "stdout",
          "text": [
            "Int64Index([   1,    7,   10,   26,   35,   49,   50,   51,   56,   63,\n",
            "            ...\n",
            "            1653, 1664, 1666, 1675, 1683, 1686, 1688, 1700, 1707, 1721],\n",
            "           dtype='int64', length=221)\n"
          ]
        }
      ]
    },
    {
      "cell_type": "code",
      "source": [
        "print(df)\n",
        "df2 = df.drop(id_remove, axis=0)\n",
        "print(df2)"
      ],
      "metadata": {
        "colab": {
          "base_uri": "https://localhost:8080/"
        },
        "id": "-GIss-sGLx0b",
        "outputId": "bbc743f8-2f01-4d64-e0a8-8e8774a1ea08"
      },
      "execution_count": 5,
      "outputs": [
        {
          "output_type": "stream",
          "name": "stdout",
          "text": [
            "            학교명  전임교원 1인당 학생 수  전임교원 확보율  전임교원 강의 담당 비율   취업률\n",
            "0      ICT폴리텍대학          18.82    106.25           72.6  74.5\n",
            "1     가야대학교(고령)           0.00      0.00            0.0   0.0\n",
            "2     가야대학교(김해)          33.74     64.44           79.9  76.1\n",
            "3         가천대학교          20.35    101.01           67.6  66.5\n",
            "4      가톨릭관동대학교          21.77     97.12           72.2  64.4\n",
            "...         ...            ...       ...            ...   ...\n",
            "1717      호원대학교          29.93     69.44           53.7  73.9\n",
            "1718      홍익대학교          27.90     74.34           72.3  62.1\n",
            "1719      홍익대학교          26.86     78.00           73.1  64.8\n",
            "1720   화성의과학대학교          28.94     72.34           74.9  62.8\n",
            "1721   화신사이버대학교         154.44    128.57           61.5   0.0\n",
            "\n",
            "[1722 rows x 5 columns]\n",
            "            학교명  전임교원 1인당 학생 수  전임교원 확보율  전임교원 강의 담당 비율   취업률\n",
            "0      ICT폴리텍대학          18.82    106.25           72.6  74.5\n",
            "2     가야대학교(김해)          33.74     64.44           79.9  76.1\n",
            "3         가천대학교          20.35    101.01           67.6  66.5\n",
            "4      가톨릭관동대학교          21.77     97.12           72.2  64.4\n",
            "5     가톨릭꽃동네대학교          24.25     96.00           78.2  64.5\n",
            "...         ...            ...       ...            ...   ...\n",
            "1716      호서대학교          26.98     79.69           79.2  64.3\n",
            "1717      호원대학교          29.93     69.44           53.7  73.9\n",
            "1718      홍익대학교          27.90     74.34           72.3  62.1\n",
            "1719      홍익대학교          26.86     78.00           73.1  64.8\n",
            "1720   화성의과학대학교          28.94     72.34           74.9  62.8\n",
            "\n",
            "[1501 rows x 5 columns]\n"
          ]
        }
      ]
    },
    {
      "cell_type": "code",
      "source": [
        "# numpy 배열로 변환\n",
        "df_np = df2.to_numpy()\n",
        "print(df_np)"
      ],
      "metadata": {
        "colab": {
          "base_uri": "https://localhost:8080/"
        },
        "id": "edU-XJPSL7YA",
        "outputId": "98edfdb7-f9b7-4499-be75-eedc12b62670"
      },
      "execution_count": 6,
      "outputs": [
        {
          "output_type": "stream",
          "name": "stdout",
          "text": [
            "[['ICT폴리텍대학' 18.82 106.25 72.6 74.5]\n",
            " ['가야대학교(김해)' 33.74 64.44 79.9 76.1]\n",
            " ['가천대학교' 20.35 101.01 67.6 66.5]\n",
            " ...\n",
            " ['홍익대학교' 27.9 74.34 72.3 62.1]\n",
            " ['홍익대학교' 26.86 78.0 73.1 64.8]\n",
            " ['화성의과학대학교' 28.94 72.34 74.9 62.8]]\n"
          ]
        }
      ]
    },
    {
      "cell_type": "markdown",
      "source": [
        "### 2) 특징 추출"
      ],
      "metadata": {
        "id": "mQk1hCoKMGPU"
      }
    },
    {
      "cell_type": "code",
      "source": [
        "x = df_np[:, 3]   # 전임교원 강의 담당 비율\n",
        "y = df_np[:, -1]  # 취업률\n",
        "m = len(df_np)    # 행 개수"
      ],
      "metadata": {
        "id": "fb8ad0aNMIqR"
      },
      "execution_count": 8,
      "outputs": []
    },
    {
      "cell_type": "code",
      "source": [
        "print(x.shape)\n",
        "x = x.reshape(m, 1)\n",
        "print(x.shape)"
      ],
      "metadata": {
        "colab": {
          "base_uri": "https://localhost:8080/"
        },
        "id": "YZKdCDhhMWht",
        "outputId": "7a474569-6042-4581-97b6-f86c28595185"
      },
      "execution_count": 9,
      "outputs": [
        {
          "output_type": "stream",
          "name": "stdout",
          "text": [
            "(1501,)\n",
            "(1501, 1)\n"
          ]
        }
      ]
    },
    {
      "cell_type": "markdown",
      "source": [
        "### * (강의노트 제작 입장) \"좋은 회귀선이 나올 것 같지 않네\""
      ],
      "metadata": {
        "id": "L6Cfclr9MgTh"
      }
    },
    {
      "cell_type": "code",
      "source": [
        "plt.plot(x, y, 'b.')\n",
        "plt.xlabel(\"full-time professor lecture rate\")  # 전임교원 강의 담당 비율(%)\n",
        "plt.ylabel(\"Employment rate\")                   # 취업률(%)\n",
        "plt.show()"
      ],
      "metadata": {
        "colab": {
          "base_uri": "https://localhost:8080/",
          "height": 279
        },
        "id": "UANREe8jMnHk",
        "outputId": "b81cc11a-6be5-4534-fe41-c957b4f57ac9"
      },
      "execution_count": 11,
      "outputs": [
        {
          "output_type": "display_data",
          "data": {
            "text/plain": [
              "<Figure size 432x288 with 1 Axes>"
            ],
            "image/png": "[encoded data removed]"
          },
          "metadata": {
            "needs_background": "light"
          }
        }
      ]
    },
    {
      "cell_type": "markdown",
      "source": [
        "### *(강의노트 제작 입장) \"'전임교원 1인당 학생 수'로 바꾸자\""
      ],
      "metadata": {
        "id": "ofaQJv5dOzt5"
      }
    },
    {
      "cell_type": "code",
      "source": [
        "x = df_np[:, 1]\n",
        "y = df_np[:, -1]\n",
        "m = len(df_np)  # 행 개수\n",
        "\n",
        "x = x.reshape(m, 1)\n",
        "print(x.shape, y.shape)\n",
        "\n",
        "plt.plot(x, y, 'b.')\n",
        "plt.xlabel(\"# of students per full-time professor\") # 전임교원 1인당 학생 수(명)\n",
        "plt.ylabel(\"Employment rate\")                       # 취업률(%)\n",
        "plt.show()"
      ],
      "metadata": {
        "colab": {
          "base_uri": "https://localhost:8080/",
          "height": 297
        },
        "id": "b63uB9bQO6rf",
        "outputId": "88bc6453-aae2-42a7-d0ea-40d2b798887c"
      },
      "execution_count": 12,
      "outputs": [
        {
          "output_type": "stream",
          "name": "stdout",
          "text": [
            "(1501, 1) (1501,)\n"
          ]
        },
        {
          "output_type": "display_data",
          "data": {
            "text/plain": [
              "<Figure size 432x288 with 1 Axes>"
            ],
            "image/png": "[encoded data removed]"
          },
          "metadata": {
            "needs_background": "light"
          }
        }
      ]
    },
    {
      "cell_type": "code",
      "source": [
        "from sklearn.model_selection import train_test_split\n",
        "\n",
        "train_x, test_x, train_y, test_y = train_test_split(x, y, test_size=0.1)"
      ],
      "metadata": {
        "id": "wTNMkC2OPdiO"
      },
      "execution_count": 13,
      "outputs": []
    },
    {
      "cell_type": "code",
      "source": [
        "len(x), len(train_x), len(test_x), len(train_y), len(test_y)"
      ],
      "metadata": {
        "colab": {
          "base_uri": "https://localhost:8080/"
        },
        "id": "gecmUQwiPwZ1",
        "outputId": "e54d6c59-4db5-49e6-8af7-87ae103a2f62"
      },
      "execution_count": 14,
      "outputs": [
        {
          "output_type": "execute_result",
          "data": {
            "text/plain": [
              "(1501, 1350, 151, 1350, 151)"
            ]
          },
          "metadata": {},
          "execution_count": 14
        }
      ]
    },
    {
      "cell_type": "markdown",
      "source": [
        "### 3) 모델 설계, loss 함수 결정, 훈련"
      ],
      "metadata": {
        "id": "PmUYoxLcP58W"
      }
    },
    {
      "cell_type": "code",
      "source": [
        "from sklearn.linear_model import LinearRegression\n",
        "regressor = LinearRegression()\n",
        "regressor.fit(train_x, train_y)"
      ],
      "metadata": {
        "colab": {
          "base_uri": "https://localhost:8080/"
        },
        "id": "GXyT8tEOP90L",
        "outputId": "d31ee787-4823-4115-86cd-4dd51ef5e730"
      },
      "execution_count": 15,
      "outputs": [
        {
          "output_type": "execute_result",
          "data": {
            "text/plain": [
              "LinearRegression()"
            ]
          },
          "metadata": {},
          "execution_count": 15
        }
      ]
    },
    {
      "cell_type": "markdown",
      "source": [
        "ㅇㅇㅇㅇ"
      ],
      "metadata": {
        "id": "W-OUo-oNQO--"
      }
    },
    {
      "cell_type": "code",
      "source": [
        "coef = regressor.coef_\n",
        "intercept = regressor.intercept_\n",
        "print('coef=', coef)\n",
        "print('intercept=', intercept)"
      ],
      "metadata": {
        "colab": {
          "base_uri": "https://localhost:8080/"
        },
        "id": "x6AmdyRDQNJq",
        "outputId": "5c789d16-8cb0-4bf9-b141-93271758588c"
      },
      "execution_count": 16,
      "outputs": [
        {
          "output_type": "stream",
          "name": "stdout",
          "text": [
            "coef= [-0.25537503]\n",
            "intercept= 74.25436449561205\n"
          ]
        }
      ]
    },
    {
      "cell_type": "markdown",
      "source": [
        "### * 예측하기(predict/inference)\n",
        "4) 임의의 전임교원 강의 담당 비율(%)에 대한 취업률 예측하기"
      ],
      "metadata": {
        "id": "2STMm8eIQhKC"
      }
    },
    {
      "cell_type": "code",
      "source": [
        "# 어떤 대학교 전임교원 1인당 학생 수(명)가 70명, 20명이라면 취업률은 얼마일까?\n",
        "regressor.predict([[70], [20]])"
      ],
      "metadata": {
        "colab": {
          "base_uri": "https://localhost:8080/"
        },
        "id": "XhMtNofBQrG6",
        "outputId": "c29a70f2-48be-4b7b-d163-8d9381f5971a"
      },
      "execution_count": 17,
      "outputs": [
        {
          "output_type": "execute_result",
          "data": {
            "text/plain": [
              "array([56.37811253, 69.14686393])"
            ]
          },
          "metadata": {},
          "execution_count": 17
        }
      ]
    },
    {
      "cell_type": "markdown",
      "source": [
        "### 5) 회귀선으로 그리기"
      ],
      "metadata": {
        "id": "tlXuWzepREb5"
      }
    },
    {
      "cell_type": "code",
      "source": [
        "plt.plot(x, y, 'b.')\n",
        "plt.plot(x, regressor.predict(x.reshape(m, 1)), color='green', label='Linear Regression')\n",
        "plt.xlabel(\"full-time professor lecture rate\")   # 전임교원 1인당 학생 수(명)\n",
        "plt.ylabel(\"Employment rate\")                    # 취업률(%)\n",
        "plt.show()"
      ],
      "metadata": {
        "colab": {
          "base_uri": "https://localhost:8080/",
          "height": 279
        },
        "id": "DnGl7GcFRGmx",
        "outputId": "6bd7c502-ba73-4d6a-c6d1-60d979df39bd"
      },
      "execution_count": 18,
      "outputs": [
        {
          "output_type": "display_data",
          "data": {
            "text/plain": [
              "<Figure size 432x288 with 1 Axes>"
            ],
            "image/png": "[encoded data removed]"
          },
          "metadata": {
            "needs_background": "light"
          }
        }
      ]
    },
    {
      "cell_type": "code",
      "source": [
        "train_pred = regressor.predict(train_x)\n",
        "test_pred = regressor.predict(test_x)\n",
        "print(train_pred, test_pred)"
      ],
      "metadata": {
        "colab": {
          "base_uri": "https://localhost:8080/"
        },
        "id": "fM-k9hOfRsgU",
        "outputId": "2824cbfe-36f2-4217-818d-4ceec341ddf8"
      },
      "execution_count": 19,
      "outputs": [
        {
          "output_type": "stream",
          "name": "stdout",
          "text": [
            "[67.84445129 67.19835247 66.03128859 ... 65.219196   66.64163491\n",
            " 61.23023806] [66.18451361 66.51650114 66.87913368 67.69888752 67.48181875 68.08961132\n",
            " 69.85169901 67.71676378 67.10897121 69.64484524 65.60991979 64.64715594\n",
            " 65.56395229 66.72335492 67.39243749 66.52160864 65.50010853 65.03277223\n",
            " 64.40965716 67.80614504 67.17281497 66.90722494 65.19110475 66.44499614\n",
            " 65.66354855 66.03384234 66.64929616 66.49862489 68.54928637 67.53289376\n",
            " 65.92147733 63.03573951 66.35306113 65.71973106 67.95937005 73.46780941\n",
            " 64.87443971 68.46501261 65.80911232 69.780194   66.98383745 65.23707225\n",
            " 64.41987216 66.1334386  66.47564114 66.84848868 68.10493382 66.66972616\n",
            " 67.36689999 66.30453987 65.87295607 67.29539498 66.66206491 65.34688352\n",
            " 69.51971147 71.1209129  67.73974753 67.5150175  67.08343371 71.11325165\n",
            " 67.0374662  66.77698367 66.04405734 66.91233244 66.89190244 69.7444415\n",
            " 69.790409   66.95319244 66.97362244 66.87147243 63.62054833 65.81932732\n",
            " 68.31944884 71.41714793 65.81421982 67.4537275  66.05682609 66.91488619\n",
            " 66.71569367 66.13088485 67.52523251 68.94511766 69.78274775 63.78654209\n",
            " 68.72549514 65.76059106 65.12215349 70.84000037 66.16152985 67.4435125\n",
            " 66.13088485 68.05385881 67.56864626 65.52564604 66.15642235 66.77698367\n",
            " 66.46031864 69.718904   68.8863814  66.37859863 66.78975242 60.678628\n",
            " 67.31071748 72.43098679 66.1079011  65.178336   66.77187617 65.90360108\n",
            " 70.15048779 67.65292002 66.95063869 67.96958505 66.94553119 66.22792736\n",
            " 66.92254744 65.28559351 64.96382097 66.54714615 66.30709362 66.51650114\n",
            " 67.63504377 66.25091111 66.90467119 72.00195675 67.09620246 66.00064359\n",
            " 65.34943727 65.83464982 66.29943237 67.51246375 68.02321381 66.44244239\n",
            " 66.04150359 66.82295118 66.73612367 68.66165138 68.33477134 67.67590377\n",
            " 67.52778626 69.22092269 66.90977869 68.8455214  66.05427234 66.81528993\n",
            " 65.77080606 66.22026611 68.43692136 66.67483366 67.28773373 66.37859863\n",
            " 61.65926811]\n"
          ]
        }
      ]
    },
    {
      "cell_type": "markdown",
      "source": [
        "### * 모델 평가"
      ],
      "metadata": {
        "id": "X2P8fhVTR9gB"
      }
    },
    {
      "cell_type": "code",
      "source": [
        "from sklearn.metrics import mean_squared_error\n",
        "\n",
        "train_mse = mean_squared_error(train_pred, train_y)\n",
        "test_mse = mean_squared_error(test_pred, test_y)\n",
        "print(train_mse, test_mse)"
      ],
      "metadata": {
        "colab": {
          "base_uri": "https://localhost:8080/"
        },
        "id": "y0V1wcIER_Ug",
        "outputId": "96259db6-6396-4e1c-ab8d-7af144ecc45a"
      },
      "execution_count": 20,
      "outputs": [
        {
          "output_type": "stream",
          "name": "stdout",
          "text": [
            "84.60826590129297 78.97663254007313\n"
          ]
        }
      ]
    },
    {
      "cell_type": "markdown",
      "source": [
        "### 2) 특징 추출"
      ],
      "metadata": {
        "id": "a8jpk5EuThsI"
      }
    },
    {
      "cell_type": "code",
      "source": [
        "x = df_np[:, 1:3]\n",
        "y = df_np[:, -1]"
      ],
      "metadata": {
        "id": "VTOonu2XTkXP"
      },
      "execution_count": 21,
      "outputs": []
    },
    {
      "cell_type": "code",
      "source": [
        "from sklearn.model_selection import train_test_split\n",
        "\n",
        "train_x, test_x, train_y, test_y = train_test_split(x, y, test_size=0.2)"
      ],
      "metadata": {
        "id": "kDaL56gzTszq"
      },
      "execution_count": 22,
      "outputs": []
    },
    {
      "cell_type": "code",
      "source": [
        "len(x), len(train_x), len(test_x), len(train_y), len(test_y)"
      ],
      "metadata": {
        "colab": {
          "base_uri": "https://localhost:8080/"
        },
        "id": "yuHn1d14UDEj",
        "outputId": "9b9d9f1d-5cab-4f5f-a9d9-eced3994fec4"
      },
      "execution_count": 23,
      "outputs": [
        {
          "output_type": "execute_result",
          "data": {
            "text/plain": [
              "(1501, 1200, 301, 1200, 301)"
            ]
          },
          "metadata": {},
          "execution_count": 23
        }
      ]
    },
    {
      "cell_type": "markdown",
      "source": [
        "### 3) 모델 설계, loss 함수 결정, 훈련"
      ],
      "metadata": {
        "id": "h_xB67AIUM7O"
      }
    },
    {
      "cell_type": "code",
      "source": [
        "from sklearn.linear_model import LinearRegression\n",
        "\n",
        "regressor = LinearRegression()\n",
        "regressor.fit(train_x, train_y)"
      ],
      "metadata": {
        "colab": {
          "base_uri": "https://localhost:8080/"
        },
        "id": "EUyn1EpjUQ0y",
        "outputId": "c90e7a2b-4f55-4cca-c58a-e49705c9d0b5"
      },
      "execution_count": 24,
      "outputs": [
        {
          "output_type": "execute_result",
          "data": {
            "text/plain": [
              "LinearRegression()"
            ]
          },
          "metadata": {},
          "execution_count": 24
        }
      ]
    },
    {
      "cell_type": "markdown",
      "source": [
        "ddd"
      ],
      "metadata": {
        "id": "QulGIfM7UdgJ"
      }
    },
    {
      "cell_type": "code",
      "source": [
        "coef = regressor.coef_            # theta1, theta2\n",
        "intercept = regressor.intercept_  # theta0\n",
        "print('coef=', coef)\n",
        "print('intercept=', intercept)"
      ],
      "metadata": {
        "colab": {
          "base_uri": "https://localhost:8080/"
        },
        "id": "EeDLcVhbUeiL",
        "outputId": "4bfcf0ab-e0a3-4ad6-c09a-99c8de7e738a"
      },
      "execution_count": 26,
      "outputs": [
        {
          "output_type": "stream",
          "name": "stdout",
          "text": [
            "coef= [-0.18360949  0.01359349]\n",
            "intercept= 70.95370280928718\n"
          ]
        }
      ]
    },
    {
      "cell_type": "code",
      "source": [
        "train_pred = regressor.predict(train_x)\n",
        "test_pred = regressor.predict(test_x)\n",
        "print(train_pred, test_pred)"
      ],
      "metadata": {
        "colab": {
          "base_uri": "https://localhost:8080/"
        },
        "id": "aNtWcwhsUzl4",
        "outputId": "37a54c1c-18a2-4222-dd81-48c7af14c2e7"
      },
      "execution_count": 30,
      "outputs": [
        {
          "output_type": "stream",
          "name": "stdout",
          "text": [
            "[67.69337292 66.66700294 67.2670067  ... 65.91560163 69.23475813\n",
            " 66.55919565] [66.36158803 65.6180456  71.49656377 65.5174604  65.68193499 65.10672084\n",
            " 66.78734352 75.33708227 65.5174604  66.22590555 67.02925932 69.4106493\n",
            " 65.75441555 66.16456581 69.44514753 65.64136136 66.4780367  66.38711456\n",
            " 66.09249111 66.31856367 66.52490815 69.47010814 69.92393395 67.51238516\n",
            " 66.11111882 67.24305878 65.57888467 66.59118247 65.52085682 67.8820556\n",
            " 68.90923145 71.25211392 66.55303228 68.20604339 69.56821144 69.53483067\n",
            " 66.86420592 68.45796697 65.79993934 66.86573312 67.10585105 65.67693463\n",
            " 69.7755172  65.8181612  66.19195571 66.38915868 67.09761432 68.43138878\n",
            " 65.52842946 66.31983459 67.40690436 66.59447488 69.32677434 68.1036696\n",
            " 65.45428845 67.61053523 65.57091787 66.78414418 67.68124085 70.83354201\n",
            " 66.58580232 66.45990401 66.65672255 68.32584877 68.70251303 65.71801034\n",
            " 66.96783235 69.81719001 62.56986648 67.91165748 66.07347461 65.10701609\n",
            " 65.92779215 65.2951453  67.47370877 66.2511797  66.49211203 69.31643939\n",
            " 65.84708266 66.74214226 67.59493854 66.68695734 65.28071477 68.6408617\n",
            " 65.4852894  65.15170674 68.23259625 66.91327766 65.92939414 65.72202529\n",
            " 64.02972269 70.47100373 68.04130083 67.38193131 65.75110635 67.32730573\n",
            " 66.65610598 66.43668837 67.89414332 63.71286392 68.2481871  66.29050653\n",
            " 66.40677881 66.07494577 67.19778003 66.22867761 66.499167   66.19869789\n",
            " 66.3347582  66.11479101 66.51406528 66.16208781 65.32480832 61.29991126\n",
            " 64.17566653 67.86738123 71.33317592 67.06768332 68.09368521 67.08318379\n",
            " 67.69684413 65.92219739 65.68195837 65.62803195 65.20718765 70.57101236\n",
            " 66.99879627 66.1221841  65.83628536 66.7790951  65.98715013 66.63406699\n",
            " 67.02715525 66.2868285  66.77890192 66.87430212 66.61320586 66.02646138\n",
            " 67.24739431 66.57166584 66.3682352  66.62952074 65.41825987 68.14189068\n",
            " 66.33091816 67.22292019 65.84623783 67.86628521 66.4181245  65.62941078\n",
            " 67.20044343 66.99519692 64.28899769 69.70766428 64.51571097 66.93956059\n",
            " 64.52995221 65.72098921 65.97001334 67.84067221 66.2609709  65.4774897\n",
            " 66.98471945 69.11101334 66.53636175 66.84024751 66.49171666 68.0508326\n",
            " 65.37744629 66.52312466 69.25646679 65.55038855 68.4450037  64.84670427\n",
            " 66.48488215 65.49475343 66.87940844 66.34604859 67.26482125 67.22978587\n",
            " 65.50495634 65.67074472 65.21229787 64.09029944 67.94498175 66.38015385\n",
            " 67.22378915 68.53969499 66.48744543 65.81469704 65.8092577  70.01198002\n",
            " 67.86456872 67.41839767 70.84979304 66.52530816 65.9075978  67.61501329\n",
            " 64.91547098 67.67044549 65.19739449 66.38062086 67.19953939 69.2030288\n",
            " 71.99233741 66.3978612  72.30593838 67.21082588 67.25201999 66.80705872\n",
            " 67.65452867 67.1189522  66.9849414  66.37128886 70.28692604 65.67461594\n",
            " 68.1934587  66.25684609 67.61984775 67.0002421  68.66294235 65.52874104\n",
            " 68.84362631 69.65796937 65.02868838 66.56795589 66.52929898 66.765754\n",
            " 67.78781962 67.59008655 67.13053004 66.56586156 68.14406953 65.65748425\n",
            " 66.43283738 66.89417199 64.18154485 66.07965088 66.66632912 69.86729857\n",
            " 67.23323955 66.6805762  71.0160153  66.33421372 69.8315399  64.95577274\n",
            " 66.12069736 69.34378178 68.26117959 65.01238864 66.71117323 66.1966211\n",
            " 71.83630516 65.51855567 65.40953861 65.25328905 65.90337723 66.17757659\n",
            " 66.73380736 66.10763518 64.80252739 65.68217299 67.34764455 66.02805678\n",
            " 65.4264927  66.32040366 67.1811173  67.95384285 64.89449999 69.00795718\n",
            " 64.02424169 68.13990891 68.76915034 65.14782772 66.68709718 66.99948958\n",
            " 66.07884111 67.25841088 65.66088067 67.10270701 68.70833485 66.15410736\n",
            " 67.11622571 65.72501196 66.38158409 66.81268586 66.54528984 68.20509769\n",
            " 68.27672368 67.54019651 67.50545054 68.73658518 67.03614059 69.28597829\n",
            " 66.64348232 68.64710107 68.53948622 67.89955149 66.474784   62.62234123\n",
            " 65.50603213]\n"
          ]
        }
      ]
    },
    {
      "cell_type": "markdown",
      "source": [
        "### * Train error < Test error"
      ],
      "metadata": {
        "id": "0_u36j_6VCz4"
      }
    },
    {
      "cell_type": "code",
      "source": [
        "from sklearn.metrics import mean_squared_error\n",
        "\n",
        "train_mse = mean_squared_error(train_pred, train_y)\n",
        "test_mse = mean_squared_error(test_pred, test_y)\n",
        "print(train_mse, test_mse)"
      ],
      "metadata": {
        "colab": {
          "base_uri": "https://localhost:8080/"
        },
        "id": "N-3pMz_DVIZk",
        "outputId": "10af8639-dae3-4e9d-adec-2ef4d4a06e88"
      },
      "execution_count": 31,
      "outputs": [
        {
          "output_type": "stream",
          "name": "stdout",
          "text": [
            "85.38498555027586 76.47637559198304\n"
          ]
        }
      ]
    }
  ]
}