{
  "nbformat": 4,
  "nbformat_minor": 0,
  "metadata": {
    "colab": {
      "provenance": [],
      "authorship_tag": "ABX9TyO4yIC4ka9uAVXhLYewnnvi",
      "include_colab_link": true
    },
    "kernelspec": {
      "name": "python3",
      "display_name": "Python 3"
    },
    "language_info": {
      "name": "python"
    }
  },
  "cells": [
    {
      "cell_type": "markdown",
      "metadata": {
        "id": "view-in-github",
        "colab_type": "text"
      },
      "source": [
        "<a href=\"https://colab.research.google.com/github/seom0000/com2022/blob/main/LinearRegression%2BDiabetes.ipynb\" target=\"_parent\"><img src=\"https://colab.research.google.com/assets/colab-badge.svg\" alt=\"Open In Colab\"/></a>"
      ]
    },
    {
      "cell_type": "markdown",
      "source": [
        "### 1) 데이터 수집"
      ],
      "metadata": {
        "id": "j1aahBJ8GQuP"
      }
    },
    {
      "cell_type": "code",
      "execution_count": 1,
      "metadata": {
        "id": "nOJpO4p9Fb3-"
      },
      "outputs": [],
      "source": [
        "import numpy as np\n",
        "import matplotlib.pyplot as plt"
      ]
    },
    {
      "cell_type": "code",
      "source": [
        "from sklearn.datasets import load_diabetes\n",
        "\n",
        "diabetes = load_diabetes()"
      ],
      "metadata": {
        "id": "RT2jptgPGZLY"
      },
      "execution_count": 2,
      "outputs": []
    },
    {
      "cell_type": "code",
      "source": [
        "print(diabetes.feature_names)\n",
        "print(diabetes.DESCR)\n",
        "\n",
        "print(diabetes[\"data\"].shape)   # x\n",
        "print(diabetes[\"target\"].shape) # y"
      ],
      "metadata": {
        "colab": {
          "base_uri": "https://localhost:8080/"
        },
        "id": "sUSTUd3OGkza",
        "outputId": "4d90afc0-6dec-4e0a-ec86-4518ca980e8a"
      },
      "execution_count": 5,
      "outputs": [
        {
          "output_type": "stream",
          "name": "stdout",
          "text": [
            "['age', 'sex', 'bmi', 'bp', 's1', 's2', 's3', 's4', 's5', 's6']\n",
            ".. _diabetes_dataset:\n",
            "\n",
            "Diabetes dataset\n",
            "----------------\n",
            "\n",
            "Ten baseline variables, age, sex, body mass index, average blood\n",
            "pressure, and six blood serum measurements were obtained for each of n =\n",
            "442 diabetes patients, as well as the response of interest, a\n",
            "quantitative measure of disease progression one year after baseline.\n",
            "\n",
            "**Data Set Characteristics:**\n",
            "\n",
            "  :Number of Instances: 442\n",
            "\n",
            "  :Number of Attributes: First 10 columns are numeric predictive values\n",
            "\n",
            "  :Target: Column 11 is a quantitative measure of disease progression one year after baseline\n",
            "\n",
            "  :Attribute Information:\n",
            "      - age     age in years\n",
            "      - sex\n",
            "      - bmi     body mass index\n",
            "      - bp      average blood pressure\n",
            "      - s1      tc, total serum cholesterol\n",
            "      - s2      ldl, low-density lipoproteins\n",
            "      - s3      hdl, high-density lipoproteins\n",
            "      - s4      tch, total cholesterol / HDL\n",
            "      - s5      ltg, possibly log of serum triglycerides level\n",
            "      - s6      glu, blood sugar level\n",
            "\n",
            "Note: Each of these 10 feature variables have been mean centered and scaled by the standard deviation times `n_samples` (i.e. the sum of squares of each column totals 1).\n",
            "\n",
            "Source URL:\n",
            "https://www4.stat.ncsu.edu/~boos/var.select/diabetes.html\n",
            "\n",
            "For more information see:\n",
            "Bradley Efron, Trevor Hastie, Iain Johnstone and Robert Tibshirani (2004) \"Least Angle Regression,\" Annals of Statistics (with discussion), 407-499.\n",
            "(https://web.stanford.edu/~hastie/Papers/LARS/LeastAngle_2002.pdf)\n",
            "(442, 10)\n",
            "(442,)\n"
          ]
        }
      ]
    },
    {
      "cell_type": "code",
      "source": [
        "x, y = diabetes[\"data\"], diabetes[\"target\"]"
      ],
      "metadata": {
        "id": "xG6rXdLZG5OL"
      },
      "execution_count": 4,
      "outputs": []
    },
    {
      "cell_type": "markdown",
      "source": [
        "### 2) 특징 추출"
      ],
      "metadata": {
        "id": "hVwgmgQJG_tC"
      }
    },
    {
      "cell_type": "code",
      "source": [
        "from sklearn.model_selection import train_test_split\n",
        "\n",
        "train_x, test_x, train_y, test_y = train_test_split(x, y, test_size=0.2)"
      ],
      "metadata": {
        "id": "FuCYO_K6HHam"
      },
      "execution_count": 7,
      "outputs": []
    },
    {
      "cell_type": "code",
      "source": [
        "print(train_x.shape)"
      ],
      "metadata": {
        "colab": {
          "base_uri": "https://localhost:8080/"
        },
        "id": "zO0pJvKPLHSO",
        "outputId": "a07d8d34-e1bb-44a6-e570-39a5bd219877"
      },
      "execution_count": 9,
      "outputs": [
        {
          "output_type": "stream",
          "name": "stdout",
          "text": [
            "(353, 10)\n"
          ]
        }
      ]
    },
    {
      "cell_type": "code",
      "source": [
        "len(x), len(train_x), len(test_x), len(train_y), len(test_y)"
      ],
      "metadata": {
        "colab": {
          "base_uri": "https://localhost:8080/"
        },
        "id": "-fUG-pNYHVq2",
        "outputId": "2a6c0a70-6f7d-41dd-88af-30b41f216534"
      },
      "execution_count": 8,
      "outputs": [
        {
          "output_type": "execute_result",
          "data": {
            "text/plain": [
              "(442, 353, 89, 353, 89)"
            ]
          },
          "metadata": {},
          "execution_count": 8
        }
      ]
    },
    {
      "cell_type": "markdown",
      "source": [
        "### 3) 모델 설계, 4) Loss 함수 결정, 5) 훈련"
      ],
      "metadata": {
        "id": "nsqq9Hq_HowU"
      }
    },
    {
      "cell_type": "code",
      "source": [
        "from sklearn.linear_model import LinearRegression\n",
        "\n",
        "regressor = LinearRegression()\n",
        "regressor.fit(train_x, train_y)"
      ],
      "metadata": {
        "colab": {
          "base_uri": "https://localhost:8080/"
        },
        "id": "Vzo7E4etLeGC",
        "outputId": "81f46015-d9e8-47d7-ddc6-38b02b1bcddc"
      },
      "execution_count": 11,
      "outputs": [
        {
          "output_type": "execute_result",
          "data": {
            "text/plain": [
              "LinearRegression()"
            ]
          },
          "metadata": {},
          "execution_count": 11
        }
      ]
    },
    {
      "cell_type": "code",
      "source": [
        "regressor.coef_"
      ],
      "metadata": {
        "colab": {
          "base_uri": "https://localhost:8080/"
        },
        "id": "Xw4Vf-ZBL0ji",
        "outputId": "94fb00c7-7e14-4f08-bdb4-876522c8ebd6"
      },
      "execution_count": 12,
      "outputs": [
        {
          "output_type": "execute_result",
          "data": {
            "text/plain": [
              "array([   5.14926283, -271.30948401,  501.11121007,  275.88114544,\n",
              "       -929.00006491,  632.68507428,  110.49740102,  136.52449068,\n",
              "        857.75204727,   88.06043331])"
            ]
          },
          "metadata": {},
          "execution_count": 12
        }
      ]
    },
    {
      "cell_type": "code",
      "source": [
        "train_pred = regressor.predict(train_x)\n",
        "test_pred = regressor.predict(test_x)\n",
        "print(train_pred, test_pred)"
      ],
      "metadata": {
        "colab": {
          "base_uri": "https://localhost:8080/"
        },
        "id": "dCTQueQ9L3Pv",
        "outputId": "08a4d04f-e066-4d6a-9e8c-d43add2d50a2"
      },
      "execution_count": 13,
      "outputs": [
        {
          "output_type": "stream",
          "name": "stdout",
          "text": [
            "[112.9807003   90.06436429 189.41336109 207.87754263 160.59809327\n",
            " 159.36656626 101.75177923 198.67666403 156.02865075  92.05041294\n",
            " 115.67741909  94.53097389 200.9245242  246.90859829 192.55112565\n",
            " 158.67482264  73.34761017 132.99354379 191.96201984 108.1387985\n",
            " 123.13496718  78.10518388 151.56257697 132.15319117  77.97628675\n",
            " 147.40304505 138.46887816 230.11798986 231.63877578 186.26129898\n",
            "  70.06244935 120.76105039 103.61547963 215.42069355 159.8684372\n",
            " 122.23698205 122.90666368 143.42645466  76.79315466 178.95920555\n",
            " 157.24933553 177.85835795 170.63129677  99.87857149 235.96432543\n",
            "  58.48626073 225.47756708 165.97841857  78.62333038 239.03099157\n",
            "  77.27373509 176.15220937 163.17164132 154.85398649 173.9652614\n",
            " 123.48395043 190.71558736 108.13527334 114.72088127 125.1313591\n",
            "  80.1555382  104.1924938  193.32665202 240.8089032  161.51961229\n",
            " 108.5655805  258.43807394 164.8986446  186.21679237 166.29668885\n",
            " 103.2603029  172.51412771 154.11024629  89.95684991 101.73631883\n",
            " 244.06341795 164.93328401 217.87602528 175.15052334 170.59255685\n",
            " 261.2786506  197.46187628 213.76590454 232.88403913 223.97475098\n",
            "  37.87856415 188.34756333  69.71127025 135.64840539 208.70787954\n",
            " 210.60716946 153.14870429  87.84607715  83.3405486   85.51378846\n",
            " 159.3615533  122.80589507 137.88635126 161.20826872  99.00038907\n",
            " 167.70867267 238.20240456 140.38990693 114.48490003 122.10671391\n",
            " 196.18780052 162.16373511 131.53338011 176.50923412 134.09639179\n",
            "  52.5310494  100.00974946 191.79553191  59.1391209  278.89368513\n",
            " 126.62424743  53.76963643 223.14745388 160.09136051 155.95537525\n",
            " 216.40381176 223.12217427 130.11671294 145.3713378  172.83579799\n",
            " 184.65943642 189.50053851 173.80521043 126.45231216 124.35273069\n",
            " 179.46996446 119.77075421 180.59154953  29.30755357 103.36818407\n",
            "  81.61950632  70.2695853   78.1446178  189.83623017  97.4580767\n",
            " 194.53383225 170.82063131  64.88712889 169.53817943  89.50168139\n",
            " 150.65800523 107.00831507  95.5029193  176.72183506 116.50201623\n",
            " 255.73272039  54.21990789 258.63713145 112.48849674 256.52045602\n",
            "  57.83518518 131.34643282  71.64178737 115.89868828 146.24522839\n",
            " 162.62608666 197.04057256 209.37065932 118.30441348 235.74925706\n",
            " 176.27217999 174.79084762 172.02968566 102.47869947 122.002481\n",
            "  74.33853992  74.50718273 172.90009734 103.40811519 175.01367823\n",
            "  91.65396411 129.39568922 153.31762199 237.35961328  98.61492357\n",
            " 168.56853731  24.74876777  75.10027676 226.33655248 151.30182936\n",
            " 174.07796287 151.37239076 156.52897711 207.40682341 225.10376359\n",
            " 221.5551328  231.38539504 149.42335827 239.77464496 123.67556015\n",
            " 136.38496785 212.39550992  79.12237606  99.93032551 230.35938944\n",
            "  84.80086569  90.64688862 119.35481757 291.99480554  70.15736507\n",
            " 162.18929894  51.58721317 179.08589736 222.1123248  147.84797038\n",
            "  66.91204293 111.52777217 248.57629415 190.47008527 164.91232304\n",
            " 128.14993581 111.68296054 175.14530184 155.0690185  125.77765876\n",
            " 110.0109616   89.64057884 210.88611897 123.34876279 256.18153176\n",
            " 146.08608419 254.16747044 102.45173376 111.26610622 252.32810602\n",
            " 219.75560343 180.38759271 101.5935932  200.65020395 208.7654565\n",
            " 171.68457577 148.51848165 201.4547595   73.53172233 193.61443492\n",
            " 166.88121283 162.75200145 215.94336412 233.56526406 129.0305992\n",
            " 211.09311613 155.20970919 115.79743492 218.30632152 131.66897118\n",
            "  79.41063612 196.37245541 139.17999413 155.33225055  94.93589008\n",
            "  89.76074309  39.75200014 150.63240186 154.18776268 116.62437389\n",
            " 164.99048339 149.7232932  119.72786076 145.91196304 138.62706546\n",
            " 148.3172862  247.90275968 133.91638573  52.90698607 187.77409885\n",
            " 115.91660082 167.84393478 256.41349994 182.01381332 271.78758852\n",
            "  87.40828278 122.29336885 204.50110393 177.5624277  209.54290078\n",
            " 169.36235217 140.74564624  78.83346092 234.65523557 153.7931824\n",
            " 126.95399586 124.5653303   81.38511766 154.90263765 180.95052359\n",
            " 191.0214295   94.01930118 143.05335947 234.94352417 114.50413108\n",
            " 116.94235003 141.28594603 266.61359461  50.00211516 191.42437271\n",
            " 223.65115827 146.98889705 122.77384356 179.01703325  89.14330335\n",
            " 140.64541869 144.73930761 150.61841681 194.32099948  98.75780424\n",
            " 156.40703291 172.71877928 166.89004104 152.43763977 255.15757356\n",
            "  63.89044371 200.04839072 194.57107493 161.13061031 172.68716491\n",
            " 224.85425139  84.03803279 116.81814704 197.8586007   72.10106279\n",
            " 286.82362902 103.61511681 212.50408194  57.57047541  96.97322353\n",
            " 231.30243815 147.04934389 194.16747305 147.01653548 166.60755197\n",
            " 185.47457228 209.49599779 111.95007577  64.14802532  80.59350649\n",
            " 199.67916434  99.74130059 112.65376953  97.94606877 176.29631469\n",
            " 162.31042698 225.42586773 233.74796234 271.79513363 102.62775172\n",
            " 222.13594776 179.581548   157.77431538] [185.19776135 114.9426915  119.71649935 274.77380007 154.51866814\n",
            " 155.68544918  53.01074506 259.00935637 200.62628573 177.6493245\n",
            " 167.27966173 225.97311094 292.9649721  132.99689713 164.12761545\n",
            " 252.63454475 193.4173387   72.62030411 205.44274826 230.68731644\n",
            " 157.75550621  81.66635199 212.62317015 144.11458658 206.10105711\n",
            "  93.40597086  76.84424101 181.40734942 268.93258705 176.20535247\n",
            "  50.72665898  50.64150223  54.58092687 125.4622415   96.74894222\n",
            " 178.2336301  135.18877465 188.86630626 184.56994906 179.69306112\n",
            "  56.36321049 191.40784492 252.97369722 182.02426743 181.83135709\n",
            " 258.86471277 232.05742345 123.6737898  233.46330472 158.94508835\n",
            " 127.10147515 219.08369274  83.83435149 142.49892475 184.30605793\n",
            " 154.88559465 123.09685063 115.60805201 128.42873619 107.01607535\n",
            " 151.94178007 200.39544137 172.08666119  59.48629723 191.54520687\n",
            " 181.51603969 118.93070239 241.40382549 189.80309217 123.42707706\n",
            " 125.59645084  60.15516159 146.29620639 163.22940704 144.89652877\n",
            " 118.86478082 216.52310081  77.58701948 102.39350656  89.63343333\n",
            "  44.90905187 163.18903836  42.10057853 150.1410682  196.38372014\n",
            " 136.07611281 252.17618294 120.508913   123.22871127]\n"
          ]
        }
      ]
    },
    {
      "cell_type": "markdown",
      "source": [
        "### 5) 훈련"
      ],
      "metadata": {
        "id": "X9_lySz6MgeV"
      }
    },
    {
      "cell_type": "code",
      "source": [
        "from sklearn.metrics import mean_squared_error\n",
        "\n",
        "train_mse = mean_squared_error(train_pred, train_y)\n",
        "test_mse = mean_squared_error(test_pred, test_y)\n",
        "print(train_mse, test_mse)"
      ],
      "metadata": {
        "colab": {
          "base_uri": "https://localhost:8080/"
        },
        "id": "i8zYyaWWMizr",
        "outputId": "69da0771-5ab1-4227-ca2b-5f412f27b683"
      },
      "execution_count": 14,
      "outputs": [
        {
          "output_type": "stream",
          "name": "stdout",
          "text": [
            "2897.1192090632167 2783.094220390594\n"
          ]
        }
      ]
    }
  ]
}