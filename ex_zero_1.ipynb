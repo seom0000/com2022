{
  "nbformat": 4,
  "nbformat_minor": 0,
  "metadata": {
    "colab": {
      "provenance": [],
      "authorship_tag": "ABX9TyMyD6AduOvQhRkjge+WmJsW",
      "include_colab_link": true
    },
    "kernelspec": {
      "name": "python3",
      "display_name": "Python 3"
    },
    "language_info": {
      "name": "python"
    }
  },
  "cells": [
    {
      "cell_type": "markdown",
      "metadata": {
        "id": "view-in-github",
        "colab_type": "text"
      },
      "source": [
        "<a href=\"https://colab.research.google.com/github/seom0000/com2022/blob/main/ex_zero_1.ipynb\" target=\"_parent\"><img src=\"https://colab.research.google.com/assets/colab-badge.svg\" alt=\"Open In Colab\"/></a>"
      ]
    },
    {
      "cell_type": "markdown",
      "source": [
        "### 라이브러리(패키지) 로드\n"
      ],
      "metadata": {
        "id": "eW_6-Gux8V83"
      }
    },
    {
      "cell_type": "code",
      "source": [
        "import numpy as np"
      ],
      "metadata": {
        "id": "XyhEMgLF8eA9"
      },
      "execution_count": null,
      "outputs": []
    },
    {
      "cell_type": "markdown",
      "source": [
        "## 2. 벡터, 행렬 연산, 그래프 그리기\n",
        "### 프린트"
      ],
      "metadata": {
        "id": "n-t0-WJo8lZd"
      }
    },
    {
      "cell_type": "code",
      "source": [
        "def print_val(x) :\n",
        "  print (\"Type:\", type(x))\n",
        "  print (\"shape:\", x.shape)\n",
        "  print (\"값:\\n\", x)\n",
        "  print (\"\")"
      ],
      "metadata": {
        "id": "0yulTcjM8sQl"
      },
      "execution_count": null,
      "outputs": []
    },
    {
      "cell_type": "markdown",
      "source": [
        "## rank 1 np array"
      ],
      "metadata": {
        "id": "AXVOgNo59LEd"
      }
    },
    {
      "cell_type": "code",
      "source": [
        "x = np.array([1, 2, 3])\n",
        "print_val (x)\n",
        "\n",
        "x[0] = 5\n",
        "print_val(x)"
      ],
      "metadata": {
        "colab": {
          "base_uri": "https://localhost:8080/"
        },
        "id": "TIte8xhG9PPe",
        "outputId": "7e838c7a-f82c-454d-a8e5-9598544c9c7b"
      },
      "execution_count": null,
      "outputs": [
        {
          "output_type": "stream",
          "name": "stdout",
          "text": [
            "Type: <class 'numpy.ndarray'>\n",
            "shape: (3,)\n",
            "값:\n",
            " [1 2 3]\n",
            "\n",
            "Type: <class 'numpy.ndarray'>\n",
            "shape: (3,)\n",
            "값:\n",
            " [5 2 3]\n",
            "\n"
          ]
        }
      ]
    },
    {
      "cell_type": "markdown",
      "source": [
        "## rank 2 np array"
      ],
      "metadata": {
        "id": "05rtxLxB9i9t"
      }
    },
    {
      "cell_type": "code",
      "source": [
        "y = np.array([[1,2,3], [4,5,6]])\n",
        "print_val(y)"
      ],
      "metadata": {
        "colab": {
          "base_uri": "https://localhost:8080/"
        },
        "id": "IbFUtxmm9m39",
        "outputId": "43b633a5-4fad-4ac9-8d1b-ed971bb3c367"
      },
      "execution_count": null,
      "outputs": [
        {
          "output_type": "stream",
          "name": "stdout",
          "text": [
            "Type: <class 'numpy.ndarray'>\n",
            "shape: (2, 3)\n",
            "값:\n",
            " [[1 2 3]\n",
            " [4 5 6]]\n",
            "\n"
          ]
        }
      ]
    },
    {
      "cell_type": "markdown",
      "source": [
        "## rank 2 zeros"
      ],
      "metadata": {
        "id": "C0sjw7gl90Un"
      }
    },
    {
      "cell_type": "code",
      "source": [
        "a = np.zeros((2,2))\n",
        "print_val (a)"
      ],
      "metadata": {
        "colab": {
          "base_uri": "https://localhost:8080/"
        },
        "id": "Dl2Eewvi93L9",
        "outputId": "3b80acc8-c360-4deb-aedc-fd24fa09e647"
      },
      "execution_count": null,
      "outputs": [
        {
          "output_type": "stream",
          "name": "stdout",
          "text": [
            "Type: <class 'numpy.ndarray'>\n",
            "shape: (2, 2)\n",
            "값:\n",
            " [[0. 0.]\n",
            " [0. 0.]]\n",
            "\n"
          ]
        }
      ]
    },
    {
      "cell_type": "markdown",
      "source": [
        "## rank 2 ones"
      ],
      "metadata": {
        "id": "lJ68mvb--BX1"
      }
    },
    {
      "cell_type": "code",
      "source": [
        "a= np.ones((3,2))\n",
        "print_val (a)"
      ],
      "metadata": {
        "colab": {
          "base_uri": "https://localhost:8080/"
        },
        "id": "6kR9CjK8-C_N",
        "outputId": "5a6e4fcb-e10a-4b66-d609-0515195f2e00"
      },
      "execution_count": null,
      "outputs": [
        {
          "output_type": "stream",
          "name": "stdout",
          "text": [
            "Type: <class 'numpy.ndarray'>\n",
            "shape: (3, 2)\n",
            "값:\n",
            " [[1. 1.]\n",
            " [1. 1.]\n",
            " [1. 1.]]\n",
            "\n"
          ]
        }
      ]
    },
    {
      "cell_type": "markdown",
      "source": [
        "## rank 2 단위 행렬(identity matrix)"
      ],
      "metadata": {
        "id": "dIVnhfHz-JHl"
      }
    },
    {
      "cell_type": "code",
      "source": [
        "a = np.eye(3,3)\n",
        "print_val (a)"
      ],
      "metadata": {
        "colab": {
          "base_uri": "https://localhost:8080/"
        },
        "id": "Z9PVwx3Z-NEx",
        "outputId": "9eed55e7-be88-4abd-978c-c3af30ad1f18"
      },
      "execution_count": null,
      "outputs": [
        {
          "output_type": "stream",
          "name": "stdout",
          "text": [
            "Type: <class 'numpy.ndarray'>\n",
            "shape: (3, 3)\n",
            "값:\n",
            " [[1. 0. 0.]\n",
            " [0. 1. 0.]\n",
            " [0. 0. 1.]]\n",
            "\n"
          ]
        }
      ]
    },
    {
      "cell_type": "markdown",
      "source": [
        "## 랜덤 행렬(uniform: 0~1 사이 모든 값들이 나올 확률이 같음)\n"
      ],
      "metadata": {
        "id": "dBRA1jhF-U82"
      }
    },
    {
      "cell_type": "code",
      "source": [
        "a = np.random.random((4,4))\n",
        "print_val(a)"
      ],
      "metadata": {
        "colab": {
          "base_uri": "https://localhost:8080/"
        },
        "id": "3OrwqTnx-cSt",
        "outputId": "72285f84-c1a0-417e-ef2a-3350ec5df5e5"
      },
      "execution_count": null,
      "outputs": [
        {
          "output_type": "stream",
          "name": "stdout",
          "text": [
            "Type: <class 'numpy.ndarray'>\n",
            "shape: (4, 4)\n",
            "값:\n",
            " [[0.83380052 0.34049085 0.96802698 0.28109404]\n",
            " [0.62873678 0.1844326  0.71014239 0.55308598]\n",
            " [0.2165908  0.31455175 0.02500585 0.72799235]\n",
            " [0.81078432 0.74576672 0.2721365  0.35560306]]\n",
            "\n"
          ]
        }
      ]
    },
    {
      "cell_type": "markdown",
      "source": [
        "## 랜덤 행렬(Gaussian: 0을 평균으로 하는 가우시아 분포를 따르는 랜덤값)\n"
      ],
      "metadata": {
        "id": "o5_H1PkG-oen"
      }
    },
    {
      "cell_type": "code",
      "source": [
        "a = np.random.randn(4,4)\n",
        "print_val(a)"
      ],
      "metadata": {
        "colab": {
          "base_uri": "https://localhost:8080/"
        },
        "id": "7boSSlZS-wiV",
        "outputId": "31488e0e-8a9a-4b07-fc96-ae6e1f084626"
      },
      "execution_count": null,
      "outputs": [
        {
          "output_type": "stream",
          "name": "stdout",
          "text": [
            "Type: <class 'numpy.ndarray'>\n",
            "shape: (4, 4)\n",
            "값:\n",
            " [[ 1.03523619 -0.01619448  0.21607047 -0.80105458]\n",
            " [ 1.41892808  0.33927856 -1.65811644  1.56972663]\n",
            " [-0.04398031  0.22520966  0.09497201 -0.57932851]\n",
            " [-0.76091399 -0.84919015 -1.22626782  0.98856646]]\n",
            "\n"
          ]
        }
      ]
    },
    {
      "cell_type": "markdown",
      "source": [
        "## np array indexing"
      ],
      "metadata": {
        "id": "QjlKPpOk-7SO"
      }
    },
    {
      "cell_type": "code",
      "source": [
        "a = np.array([[1,2,3,4], [5,6,7,8], [9,10,11,12]])\n",
        "print_val(a)"
      ],
      "metadata": {
        "colab": {
          "base_uri": "https://localhost:8080/"
        },
        "id": "ogzR9AB6--eX",
        "outputId": "bc3115bc-24ec-4fe6-f504-c5ea66ffcad4"
      },
      "execution_count": null,
      "outputs": [
        {
          "output_type": "stream",
          "name": "stdout",
          "text": [
            "Type: <class 'numpy.ndarray'>\n",
            "shape: (3, 4)\n",
            "값:\n",
            " [[ 1  2  3  4]\n",
            " [ 5  6  7  8]\n",
            " [ 9 10 11 12]]\n",
            "\n"
          ]
        }
      ]
    },
    {
      "cell_type": "code",
      "source": [
        "b = a[:2, 1:3]  # 행 0~1, 열 1~2\n",
        "print_val (b)"
      ],
      "metadata": {
        "colab": {
          "base_uri": "https://localhost:8080/"
        },
        "id": "mMUCrEJ5_KdP",
        "outputId": "25211b3b-21c4-4aeb-c720-28319cdf62a9"
      },
      "execution_count": null,
      "outputs": [
        {
          "output_type": "stream",
          "name": "stdout",
          "text": [
            "Type: <class 'numpy.ndarray'>\n",
            "shape: (2, 2)\n",
            "값:\n",
            " [[2 3]\n",
            " [6 7]]\n",
            "\n"
          ]
        }
      ]
    },
    {
      "cell_type": "markdown",
      "source": [
        "## 행렬의 n번째 행 얻기"
      ],
      "metadata": {
        "id": "LOjjCfaS_R--"
      }
    },
    {
      "cell_type": "code",
      "source": [
        "row1 = a[1, :]  # 1번째 행\n",
        "print_val(row1)"
      ],
      "metadata": {
        "colab": {
          "base_uri": "https://localhost:8080/"
        },
        "id": "-wEv-iAk_Uuu",
        "outputId": "d42495d0-2979-4adb-ba73-7d4a3e0ac9e9"
      },
      "execution_count": null,
      "outputs": [
        {
          "output_type": "stream",
          "name": "stdout",
          "text": [
            "Type: <class 'numpy.ndarray'>\n",
            "shape: (4,)\n",
            "값:\n",
            " [5 6 7 8]\n",
            "\n"
          ]
        }
      ]
    },
    {
      "cell_type": "markdown",
      "source": [
        "## 행렬의 원소별 연산"
      ],
      "metadata": {
        "id": "izqpRh-S_beW"
      }
    },
    {
      "cell_type": "code",
      "source": [
        "m1 = np.array([[1,2], [3,4]], dtype=np.float64)\n",
        "m2 = np.array([[5,6], [7,8]], dtype=np.float64)\n",
        "\n",
        "# elementwise sum\n",
        "print_val(m1 + m2)\n",
        "print_val(np.add(m1, m2))"
      ],
      "metadata": {
        "colab": {
          "base_uri": "https://localhost:8080/"
        },
        "id": "d7MPN2WG_dUe",
        "outputId": "a87da230-c4f7-4378-df55-dd762330aba5"
      },
      "execution_count": null,
      "outputs": [
        {
          "output_type": "stream",
          "name": "stdout",
          "text": [
            "Type: <class 'numpy.ndarray'>\n",
            "shape: (2, 2)\n",
            "값:\n",
            " [[ 6.  8.]\n",
            " [10. 12.]]\n",
            "\n",
            "Type: <class 'numpy.ndarray'>\n",
            "shape: (2, 2)\n",
            "값:\n",
            " [[ 6.  8.]\n",
            " [10. 12.]]\n",
            "\n"
          ]
        }
      ]
    },
    {
      "cell_type": "code",
      "source": [
        "# elementwise difference\n",
        "print_val(m1 - m2)\n",
        "print_val(np.subtract(m1, m2))"
      ],
      "metadata": {
        "colab": {
          "base_uri": "https://localhost:8080/"
        },
        "id": "HDrFbxqqADzX",
        "outputId": "23227633-b1b2-4a0d-af0c-5d09795c0a3e"
      },
      "execution_count": null,
      "outputs": [
        {
          "output_type": "stream",
          "name": "stdout",
          "text": [
            "Type: <class 'numpy.ndarray'>\n",
            "shape: (2, 2)\n",
            "값:\n",
            " [[-4. -4.]\n",
            " [-4. -4.]]\n",
            "\n",
            "Type: <class 'numpy.ndarray'>\n",
            "shape: (2, 2)\n",
            "값:\n",
            " [[-4. -4.]\n",
            " [-4. -4.]]\n",
            "\n"
          ]
        }
      ]
    },
    {
      "cell_type": "code",
      "source": [
        "# elementwise product\n",
        "print_val(m1 * m2)\n",
        "print_val(np.multiply(m1, m2))"
      ],
      "metadata": {
        "colab": {
          "base_uri": "https://localhost:8080/"
        },
        "id": "q5jzyEJFANF3",
        "outputId": "e3906b01-5911-4f7f-e6e0-34dad1a5f21c"
      },
      "execution_count": null,
      "outputs": [
        {
          "output_type": "stream",
          "name": "stdout",
          "text": [
            "Type: <class 'numpy.ndarray'>\n",
            "shape: (2, 2)\n",
            "값:\n",
            " [[ 5. 12.]\n",
            " [21. 32.]]\n",
            "\n",
            "Type: <class 'numpy.ndarray'>\n",
            "shape: (2, 2)\n",
            "값:\n",
            " [[ 5. 12.]\n",
            " [21. 32.]]\n",
            "\n"
          ]
        }
      ]
    },
    {
      "cell_type": "code",
      "source": [
        "#elementwise division\n",
        "print_val(m1 / m2)\n",
        "print_val(np.divide(m1, m2))"
      ],
      "metadata": {
        "colab": {
          "base_uri": "https://localhost:8080/"
        },
        "id": "pKcMIjcnCETv",
        "outputId": "f0a0449e-e5f9-4eec-ac99-2ef04b73786e"
      },
      "execution_count": null,
      "outputs": [
        {
          "output_type": "stream",
          "name": "stdout",
          "text": [
            "Type: <class 'numpy.ndarray'>\n",
            "shape: (2, 2)\n",
            "값:\n",
            " [[0.2        0.33333333]\n",
            " [0.42857143 0.5       ]]\n",
            "\n",
            "Type: <class 'numpy.ndarray'>\n",
            "shape: (2, 2)\n",
            "값:\n",
            " [[0.2        0.33333333]\n",
            " [0.42857143 0.5       ]]\n",
            "\n"
          ]
        }
      ]
    },
    {
      "cell_type": "code",
      "source": [
        "# elementwise square root\n",
        "print_val(np.sqrt(m1))"
      ],
      "metadata": {
        "colab": {
          "base_uri": "https://localhost:8080/"
        },
        "id": "UPjkDKJLCN5P",
        "outputId": "24ea86f2-8556-4266-c4f9-ad400acb77c0"
      },
      "execution_count": null,
      "outputs": [
        {
          "output_type": "stream",
          "name": "stdout",
          "text": [
            "Type: <class 'numpy.ndarray'>\n",
            "shape: (2, 2)\n",
            "값:\n",
            " [[1.         1.41421356]\n",
            " [1.73205081 2.        ]]\n",
            "\n"
          ]
        }
      ]
    },
    {
      "cell_type": "markdown",
      "source": [
        "## zeros-like"
      ],
      "metadata": {
        "id": "MdIuGd5zDc53"
      }
    },
    {
      "cell_type": "code",
      "source": [
        "m1 = np.array([[1,2,3],\n",
        "               [4,5,6],\n",
        "               [7,8,9],\n",
        "               [10,11,12]])\n",
        "m2 = np.zeros_like(m1)  # m1과 같은 형태의 0으로 이루어진 np array\n",
        "print_val(m1)\n",
        "print_val(m2)"
      ],
      "metadata": {
        "colab": {
          "base_uri": "https://localhost:8080/"
        },
        "id": "L1yblsx1DfZg",
        "outputId": "d8421f68-0e2e-45a5-a05d-91730aab296c"
      },
      "execution_count": null,
      "outputs": [
        {
          "output_type": "stream",
          "name": "stdout",
          "text": [
            "Type: <class 'numpy.ndarray'>\n",
            "shape: (4, 3)\n",
            "값:\n",
            " [[ 1  2  3]\n",
            " [ 4  5  6]\n",
            " [ 7  8  9]\n",
            " [10 11 12]]\n",
            "\n",
            "Type: <class 'numpy.ndarray'>\n",
            "shape: (4, 3)\n",
            "값:\n",
            " [[0 0 0]\n",
            " [0 0 0]\n",
            " [0 0 0]\n",
            " [0 0 0]]\n",
            "\n"
          ]
        }
      ]
    },
    {
      "cell_type": "markdown",
      "source": [
        "## Matplot library"
      ],
      "metadata": {
        "id": "2V-9Eew3EcL4"
      }
    },
    {
      "cell_type": "code",
      "source": [
        "import matplotlib.pyplot as plt\n",
        "%matplotlib inline\n",
        "\n",
        "# sin 커브\n",
        "x = np.arange(0, 10, 0.1)  # 0~10 까지 0.1 간격의 숫자 배열\n",
        "y = np.sin(x)\n",
        "\n",
        "plt.plot(x, y)"
      ],
      "metadata": {
        "colab": {
          "base_uri": "https://localhost:8080/",
          "height": 283
        },
        "id": "FwVhhLWwFCyo",
        "outputId": "11e5192b-6317-4479-e81e-560ac499f227"
      },
      "execution_count": null,
      "outputs": [
        {
          "output_type": "execute_result",
          "data": {
            "text/plain": [
              "[<matplotlib.lines.Line2D at 0x7f38871e0450>]"
            ]
          },
          "metadata": {},
          "execution_count": 26
        },
        {
          "output_type": "display_data",
          "data": {
            "text/plain": [
              "<Figure size 432x288 with 1 Axes>"
            ],
            "image/png": "[encoded data removed]"
          },
          "metadata": {
            "needs_background": "light"
          }
        }
      ]
    },
    {
      "cell_type": "markdown",
      "source": [
        "## 한 번에 두 개 그래프 그리기"
      ],
      "metadata": {
        "id": "Zuwgt7cWG22Q"
      }
    },
    {
      "cell_type": "code",
      "source": [
        "y_sin = np.sin(x)\n",
        "y_cos = np.cos(x)\n",
        "\n",
        "plt.plot(x, y_sin)\n",
        "plt.plot(x, y_cos)\n",
        "plt.xlabel('x axis label')\n",
        "plt.ylabel('y axis label')\n",
        "plt.title('sin and cos')\n",
        "plt.legend(['sin', 'cos'])\n",
        "\n",
        "plt.show()"
      ],
      "metadata": {
        "colab": {
          "base_uri": "https://localhost:8080/",
          "height": 295
        },
        "id": "vyN-8CUjG5VQ",
        "outputId": "22a81a12-93f3-4700-f39d-2cac6f06ecbe"
      },
      "execution_count": null,
      "outputs": [
        {
          "output_type": "display_data",
          "data": {
            "text/plain": [
              "<Figure size 432x288 with 1 Axes>"
            ],
            "image/png": "[encoded data removed]"
          },
          "metadata": {
            "needs_background": "light"
          }
        }
      ]
    },
    {
      "cell_type": "markdown",
      "source": [
        "## Subplot"
      ],
      "metadata": {
        "id": "6G4GyE3pHfvQ"
      }
    },
    {
      "cell_type": "code",
      "source": [
        "plt.subplot(2, 1, 1)  # (2,1) 형태 플랏의 첫 번째 자리에 그리겠다\n",
        "plt.plot(x, y_sin)\n",
        "plt.title('sin')\n",
        "\n",
        "plt.subplot(2, 1, 2)\n",
        "plt.plot(x, y_cos)\n",
        "plt.title('cos')\n",
        "\n",
        "plt.show()"
      ],
      "metadata": {
        "colab": {
          "base_uri": "https://localhost:8080/",
          "height": 281
        },
        "id": "kt3FvtVwHhhh",
        "outputId": "9e37e306-4350-42b2-cc05-053ef9038480"
      },
      "execution_count": null,
      "outputs": [
        {
          "output_type": "display_data",
          "data": {
            "text/plain": [
              "<Figure size 432x288 with 2 Axes>"
            ],
            "image/png": "[encoded data removed]"
          },
          "metadata": {
            "needs_background": "light"
          }
        }
      ]
    }
  ]
}