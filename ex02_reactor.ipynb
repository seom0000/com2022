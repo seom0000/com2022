{
  "nbformat": 4,
  "nbformat_minor": 0,
  "metadata": {
    "colab": {
      "provenance": [],
      "authorship_tag": "ABX9TyNokOavPV5Xvo5EmkprtSXK",
      "include_colab_link": true
    },
    "kernelspec": {
      "name": "python3",
      "display_name": "Python 3"
    },
    "language_info": {
      "name": "python"
    }
  },
  "cells": [
    {
      "cell_type": "markdown",
      "metadata": {
        "id": "view-in-github",
        "colab_type": "text"
      },
      "source": [
        "<a href=\"https://colab.research.google.com/github/seom0000/com2022/blob/main/ex02_reactor.ipynb\" target=\"_parent\"><img src=\"https://colab.research.google.com/assets/colab-badge.svg\" alt=\"Open In Colab\"/></a>"
      ]
    },
    {
      "cell_type": "markdown",
      "source": [
        "### 1. Uni-Variate Regression   \n",
        "\n",
        "### 1) 데이터 수집"
      ],
      "metadata": {
        "id": "cyXndymgThGx"
      }
    },
    {
      "cell_type": "code",
      "execution_count": 6,
      "metadata": {
        "id": "KsqlY4e8TJst",
        "colab": {
          "base_uri": "https://localhost:8080/",
          "height": 442
        },
        "outputId": "b64822b6-12a4-4e82-abcb-4550781da801"
      },
      "outputs": [
        {
          "output_type": "stream",
          "name": "stdout",
          "text": [
            "[[ 1.  50.8]\n",
            " [ 2.  56.4]\n",
            " [ 3.  55.1]\n",
            " [ 4.  60.6]\n",
            " [ 5.  61.5]\n",
            " [ 6.  65.4]\n",
            " [ 7.  64.1]\n",
            " [ 8.  73.8]]\n",
            "8\n"
          ]
        },
        {
          "output_type": "display_data",
          "data": {
            "text/plain": [
              "<Figure size 432x288 with 1 Axes>"
            ],
            "image/png": "[encoded data removed]"
          },
          "metadata": {
            "needs_background": "light"
          }
        }
      ],
      "source": [
        "import pandas as pd\n",
        "import numpy as np\n",
        "import matplotlib.pyplot as plt\n",
        "\n",
        "df = pd.read_csv('reactor.csv')\n",
        "\n",
        "df_np = df.to_numpy()\n",
        "print(df_np)\n",
        "\n",
        "x = df_np[:, 0]\n",
        "y = df_np[:, 1]\n",
        "m = len(df_np)\n",
        "print(m)\n",
        "\n",
        "x = x.reshape(m, 1)\n",
        "\n",
        "plt.plot(x, y, 'b.')\n",
        "plt.xlabel(\"Hour\")\n",
        "plt.ylabel(\"Temperature\")\n",
        "plt.show()"
      ]
    },
    {
      "cell_type": "markdown",
      "source": [
        "### 3) 모델 설계,loss 함수 결정, 훈련"
      ],
      "metadata": {
        "id": "ZnlcMkCjqAE1"
      }
    },
    {
      "cell_type": "code",
      "source": [
        "from sklearn.linear_model import LinearRegression\n",
        "\n",
        "regressor = LinearRegression()\n",
        "regressor.fit(x, y)"
      ],
      "metadata": {
        "colab": {
          "base_uri": "https://localhost:8080/"
        },
        "id": "W2jBot1eqE4_",
        "outputId": "3dfaeba6-c217-4eb4-f39f-7eaf9cf50a06"
      },
      "execution_count": 7,
      "outputs": [
        {
          "output_type": "execute_result",
          "data": {
            "text/plain": [
              "LinearRegression()"
            ]
          },
          "metadata": {},
          "execution_count": 7
        }
      ]
    },
    {
      "cell_type": "code",
      "source": [
        "coef = regressor.coef_            # theta1\n",
        "intercept = regressor.intercept_  # theta0\n",
        "print('coef=', coef)\n",
        "print('intercept=', intercept)"
      ],
      "metadata": {
        "colab": {
          "base_uri": "https://localhost:8080/"
        },
        "id": "XCDe3M9gq1u0",
        "outputId": "693fcf6f-8994-41b3-ffd1-bda3f48cea37"
      },
      "execution_count": 8,
      "outputs": [
        {
          "output_type": "stream",
          "name": "stdout",
          "text": [
            "coef= [2.75357143]\n",
            "intercept= 48.571428571428555\n"
          ]
        }
      ]
    },
    {
      "cell_type": "markdown",
      "source": [
        "### 4) 임의의 시간(hr)에 대한 온도 예측하기"
      ],
      "metadata": {
        "id": "5rS5LN0WrVSq"
      }
    },
    {
      "cell_type": "code",
      "source": [
        "# 가동 시간이 7.5시간, 20시간이라면, 온도는 얼마일까?\n",
        "regressor.predict([[7.5],[20]])"
      ],
      "metadata": {
        "colab": {
          "base_uri": "https://localhost:8080/"
        },
        "id": "pGm7QUxOra8Y",
        "outputId": "1634bc32-b823-4da4-ae0c-fc0874be440a"
      },
      "execution_count": 9,
      "outputs": [
        {
          "output_type": "execute_result",
          "data": {
            "text/plain": [
              "array([ 69.22321429, 103.64285714])"
            ]
          },
          "metadata": {},
          "execution_count": 9
        }
      ]
    },
    {
      "cell_type": "markdown",
      "source": [
        "### 5) 회귀선으로 그리기"
      ],
      "metadata": {
        "id": "zppzuMg-rr1e"
      }
    },
    {
      "cell_type": "code",
      "source": [
        "plt.plot(x, y, 'b.')\n",
        "plt.plot(x, regressor.predict(x.reshape(m, 1)), color='green', label='Linear Regression')\n",
        "plt.xlabel(\"full time professor lecture rate\")\n",
        "plt.ylabel(\"Employment rate\")\n",
        "plt.show()"
      ],
      "metadata": {
        "colab": {
          "base_uri": "https://localhost:8080/",
          "height": 279
        },
        "id": "_oTqMpcRrvi5",
        "outputId": "0d57fabc-6411-4e31-b631-64fbefc573c0"
      },
      "execution_count": 10,
      "outputs": [
        {
          "output_type": "display_data",
          "data": {
            "text/plain": [
              "<Figure size 432x288 with 1 Axes>"
            ],
            "image/png": "[encoded data removed]"
          },
          "metadata": {
            "needs_background": "light"
          }
        }
      ]
    }
  ]
}