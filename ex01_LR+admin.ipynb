{
  "nbformat": 4,
  "nbformat_minor": 0,
  "metadata": {
    "colab": {
      "provenance": [],
      "mount_file_id": "168kQmOGirOpyNJ-9Tnq8i1znUKSg1Zo0",
      "authorship_tag": "ABX9TyMPu/CNvd3YukhyyfdshizV",
      "include_colab_link": true
    },
    "kernelspec": {
      "name": "python3",
      "display_name": "Python 3"
    },
    "language_info": {
      "name": "python"
    }
  },
  "cells": [
    {
      "cell_type": "markdown",
      "metadata": {
        "id": "view-in-github",
        "colab_type": "text"
      },
      "source": [
        "<a href=\"https://colab.research.google.com/github/seom0000/com2022/blob/main/ex01_LR%2Badmin.ipynb\" target=\"_parent\"><img src=\"https://colab.research.google.com/assets/colab-badge.svg\" alt=\"Open In Colab\"/></a>"
      ]
    },
    {
      "cell_type": "markdown",
      "source": [
        "### 1. 로지스틱 회귀\n",
        "* 1) 합격여부 데이터 읽기\n",
        "* 2) 그래프 그리기\n",
        "* 3) 학습\n",
        "* 4) decision boundary"
      ],
      "metadata": {
        "id": "Afywj6RtNPYB"
      }
    },
    {
      "cell_type": "markdown",
      "source": [
        "### 1) 합격여부 데이터 읽기"
      ],
      "metadata": {
        "id": "Aj_L_tBLNcYq"
      }
    },
    {
      "cell_type": "code",
      "execution_count": 10,
      "metadata": {
        "colab": {
          "base_uri": "https://localhost:8080/"
        },
        "id": "alghE1NoNMqC",
        "outputId": "eff444e5-8f2b-4bb0-da33-f2e524a1ea41"
      },
      "outputs": [
        {
          "output_type": "stream",
          "name": "stdout",
          "text": [
            "          ex1        ex2  Admitted\n",
            "0   34.623660  78.024693         0\n",
            "1   30.286711  43.894998         0\n",
            "2   35.847409  72.902198         0\n",
            "3   60.182599  86.308552         1\n",
            "4   79.032736  75.344376         1\n",
            "..        ...        ...       ...\n",
            "95  83.489163  48.380286         1\n",
            "96  42.261701  87.103851         1\n",
            "97  99.315009  68.775409         1\n",
            "98  55.340018  64.931938         1\n",
            "99  74.775893  89.529813         1\n",
            "\n",
            "[100 rows x 3 columns]\n"
          ]
        }
      ],
      "source": [
        "import numpy as np\n",
        "import pandas as pd\n",
        "data = pd.read_csv('drive/MyDrive/2022 전산학_colab/admit.txt', names=['ex1', 'ex2', 'Admitted'])\n",
        "print (data)\n",
        "\n",
        "X = np.c_[data['ex1'], data['ex2']]\n",
        "y = data['Admitted']\n",
        "m = len(data)"
      ]
    },
    {
      "cell_type": "code",
      "source": [
        "print (X.shape, y.shape)"
      ],
      "metadata": {
        "colab": {
          "base_uri": "https://localhost:8080/"
        },
        "id": "2i1xPIPpRJ2x",
        "outputId": "b4edfa68-c4a6-494f-ffb5-c250dc0e6bb0"
      },
      "execution_count": 11,
      "outputs": [
        {
          "output_type": "stream",
          "name": "stdout",
          "text": [
            "(100, 2) (100,)\n"
          ]
        }
      ]
    },
    {
      "cell_type": "markdown",
      "source": [
        "### 2) 그래프 그리기"
      ],
      "metadata": {
        "id": "Add2OdhdRg6x"
      }
    },
    {
      "cell_type": "code",
      "source": [
        "pos = []\n",
        "neg = []\n",
        "\n",
        "for (i,val) in enumerate(y):\n",
        "  if val==1:\n",
        "    pos.append(i)\n",
        "  else:\n",
        "    neg.append(i)\n",
        "print (pos)\n",
        "print (neg)"
      ],
      "metadata": {
        "colab": {
          "base_uri": "https://localhost:8080/"
        },
        "id": "Q7VBUGWbRi9w",
        "outputId": "228f0f35-f3a9-4c17-9673-22029675a07d"
      },
      "execution_count": 14,
      "outputs": [
        {
          "output_type": "stream",
          "name": "stdout",
          "text": [
            "[3, 4, 6, 7, 8, 9, 12, 13, 15, 16, 18, 19, 21, 24, 25, 26, 30, 31, 33, 37, 40, 42, 46, 47, 48, 49, 50, 51, 52, 56, 58, 59, 60, 66, 68, 69, 71, 72, 73, 74, 75, 76, 77, 80, 81, 82, 83, 84, 85, 87, 88, 90, 91, 93, 94, 95, 96, 97, 98, 99]\n",
            "[0, 1, 2, 5, 10, 11, 14, 17, 20, 22, 23, 27, 28, 29, 32, 34, 35, 36, 38, 39, 41, 43, 44, 45, 53, 54, 55, 57, 61, 62, 63, 64, 65, 67, 70, 78, 79, 86, 89, 92]\n"
          ]
        }
      ]
    },
    {
      "cell_type": "code",
      "source": [
        "import matplotlib.pyplot as plt\n",
        "plt.plot(X[pos, 0].reshape(-1), X[pos, 1].reshape(-1), 'b+', label='Admitted')\n",
        "plt.plot(X[neg,0].reshape(-1), X[neg, 1].reshape(-1), 'ro', label='Not admitted')\n",
        "plt.xlabel(\"Exam 1 score\")\n",
        "plt.ylabel(\"Exam 2 score\")\n",
        "plt.legend(loc='upper right')\n",
        "plt.show()"
      ],
      "metadata": {
        "colab": {
          "base_uri": "https://localhost:8080/",
          "height": 279
        },
        "id": "EZYmb2jYR8gZ",
        "outputId": "022b556b-e984-4ddf-f44b-67e45056c51c"
      },
      "execution_count": 15,
      "outputs": [
        {
          "output_type": "display_data",
          "data": {
            "text/plain": [
              "<Figure size 432x288 with 1 Axes>"
            ],
            "image/png": "[encoded data removed]"
          },
          "metadata": {
            "needs_background": "light"
          }
        }
      ]
    },
    {
      "cell_type": "markdown",
      "source": [
        "### 3) 학습"
      ],
      "metadata": {
        "id": "GzwjYJaISqGK"
      }
    },
    {
      "cell_type": "code",
      "source": [
        "from sklearn.linear_model import LogisticRegression\n",
        "\n",
        "log_reg = LogisticRegression(solver='liblinear', C=10)\n",
        "log_reg.fit(X, y)"
      ],
      "metadata": {
        "colab": {
          "base_uri": "https://localhost:8080/"
        },
        "id": "jYDhBnZpSrgi",
        "outputId": "42c5bace-c82c-4cfb-a933-46122e95e9d5"
      },
      "execution_count": 17,
      "outputs": [
        {
          "output_type": "execute_result",
          "data": {
            "text/plain": [
              "LogisticRegression(C=10, solver='liblinear')"
            ]
          },
          "metadata": {},
          "execution_count": 17
        }
      ]
    },
    {
      "cell_type": "code",
      "source": [
        "log_reg.predict([[30, 70],\n",
        "                 [50, 90]])"
      ],
      "metadata": {
        "colab": {
          "base_uri": "https://localhost:8080/"
        },
        "id": "eamAgi2NTA5J",
        "outputId": "7361a6f2-5f44-481a-ba9d-0c98b9fe867c"
      },
      "execution_count": 18,
      "outputs": [
        {
          "output_type": "execute_result",
          "data": {
            "text/plain": [
              "array([0, 1])"
            ]
          },
          "metadata": {},
          "execution_count": 18
        }
      ]
    },
    {
      "cell_type": "markdown",
      "source": [
        "### 4) decision boundary"
      ],
      "metadata": {
        "id": "KrpMWquPTVwx"
      }
    },
    {
      "cell_type": "code",
      "source": [
        "x_min, x_max = X[:, 0].min(), X[:, 0].max()\n",
        "y_min, y_max = X[:, 1].min(), X[:, 1].max()\n",
        "h = .2\n",
        "xx, yy = np.meshgrid(np.arange(x_min, x_max, h), np.arange(y_min, y_max, h))\n",
        "Z = log_reg.predict(np.c_[xx.ravel(), yy.ravel()])\n",
        "\n",
        "Z = Z.reshape(xx.shape)\n",
        "plt.figure(1)\n",
        "plt.pcolormesh(xx, yy,Z, cmap=plt.cm.Paired)\n",
        "\n",
        "plt.plot(X[pos,0].reshape(-1), X[pos,1].reshape(-1), 'b+', label='Passed')\n",
        "plt.plot(X[neg,0].reshape(-1), X[neg,1].reshape(-1), 'ro', label='Not passed')\n",
        "plt.xlabel(\"Microchip Test 1\")\n",
        "plt.ylabel(\"Microchip Test 2\")\n",
        "plt.legend(loc='upper right')\n",
        "\n",
        "plt.xlim(xx.min(), xx.max())\n",
        "plt.ylim(yy.min(), yy.max())\n",
        "plt.xticks(())\n",
        "plt.yticks(())\n",
        "\n",
        "plt.show()"
      ],
      "metadata": {
        "colab": {
          "base_uri": "https://localhost:8080/",
          "height": 262
        },
        "id": "29xAsDs9TbJj",
        "outputId": "54f78a41-c390-43ca-8faf-7901558d1e0f"
      },
      "execution_count": 21,
      "outputs": [
        {
          "output_type": "display_data",
          "data": {
            "text/plain": [
              "<Figure size 432x288 with 1 Axes>"
            ],
            "image/png": "[encoded data removed]"
          },
          "metadata": {}
        }
      ]
    },
    {
      "cell_type": "markdown",
      "source": [
        "### 2. 로지스틱 회귀 + 정규화\n",
        "* 1) 합격여부 데이터 읽기\n",
        "* 2) 그래프 그리기\n",
        "* 3) 학습\n",
        "* 4) decision boundary\n"
      ],
      "metadata": {
        "id": "oBm2hRtuVPBS"
      }
    },
    {
      "cell_type": "markdown",
      "source": [
        "### 1) 불량여부 데이터 읽기"
      ],
      "metadata": {
        "id": "yxP7oGGwV1Gp"
      }
    },
    {
      "cell_type": "code",
      "source": [
        "import numpy as np\n",
        "import pandas as pd\n",
        "data = pd.read_csv('drive/MyDrive/2022 전산학_colab/qa.txt', names=['t1', 't2', 'Passed'])\n",
        "print (data)\n",
        "\n",
        "X = np.c_[data['t1'], data['t2']]\n",
        "y = data['Passed']\n",
        "m = len(data)"
      ],
      "metadata": {
        "colab": {
          "base_uri": "https://localhost:8080/"
        },
        "id": "GINqMVREV36N",
        "outputId": "93ddf015-034b-4697-ad37-c258fac0b405"
      },
      "execution_count": 24,
      "outputs": [
        {
          "output_type": "stream",
          "name": "stdout",
          "text": [
            "           t1        t2  Passed\n",
            "0    0.051267  0.699560       1\n",
            "1   -0.092742  0.684940       1\n",
            "2   -0.213710  0.692250       1\n",
            "3   -0.375000  0.502190       1\n",
            "4   -0.513250  0.465640       1\n",
            "..        ...       ...     ...\n",
            "113 -0.720620  0.538740       0\n",
            "114 -0.593890  0.494880       0\n",
            "115 -0.484450  0.999270       0\n",
            "116 -0.006336  0.999270       0\n",
            "117  0.632650 -0.030612       0\n",
            "\n",
            "[118 rows x 3 columns]\n"
          ]
        }
      ]
    },
    {
      "cell_type": "code",
      "source": [
        "print (X.shape, y.shape)"
      ],
      "metadata": {
        "colab": {
          "base_uri": "https://localhost:8080/"
        },
        "id": "zyaJC086WmpK",
        "outputId": "a29518f9-c0a4-412d-e3ec-3fe0d8569ce7"
      },
      "execution_count": 27,
      "outputs": [
        {
          "output_type": "stream",
          "name": "stdout",
          "text": [
            "(118, 2) (118,)\n"
          ]
        }
      ]
    },
    {
      "cell_type": "markdown",
      "source": [
        "### 2) 그래프 그리기"
      ],
      "metadata": {
        "id": "dumhHzlgWuIK"
      }
    },
    {
      "cell_type": "code",
      "source": [
        "pos = []\n",
        "neg = []\n",
        "\n",
        "for(i, val) in enumerate(y):\n",
        "  if val==1:\n",
        "    pos.append(i)\n",
        "  else:\n",
        "    neg.append(i)\n",
        "print (pos)\n",
        "print (neg)"
      ],
      "metadata": {
        "colab": {
          "base_uri": "https://localhost:8080/"
        },
        "id": "EkPWVpc4WwCJ",
        "outputId": "4a4f006f-642f-40ab-944a-1a5a474f50d2"
      },
      "execution_count": 28,
      "outputs": [
        {
          "output_type": "stream",
          "name": "stdout",
          "text": [
            "[0, 1, 2, 3, 4, 5, 6, 7, 8, 9, 10, 11, 12, 13, 14, 15, 16, 17, 18, 19, 20, 21, 22, 23, 24, 25, 26, 27, 28, 29, 30, 31, 32, 33, 34, 35, 36, 37, 38, 39, 40, 41, 42, 43, 44, 45, 46, 47, 48, 49, 50, 51, 52, 53, 54, 55, 56, 57]\n",
            "[58, 59, 60, 61, 62, 63, 64, 65, 66, 67, 68, 69, 70, 71, 72, 73, 74, 75, 76, 77, 78, 79, 80, 81, 82, 83, 84, 85, 86, 87, 88, 89, 90, 91, 92, 93, 94, 95, 96, 97, 98, 99, 100, 101, 102, 103, 104, 105, 106, 107, 108, 109, 110, 111, 112, 113, 114, 115, 116, 117]\n"
          ]
        }
      ]
    },
    {
      "cell_type": "code",
      "source": [
        "import matplotlib.pyplot as plt\n",
        "plt.plot(X[pos,0].reshape(-1), X[pos,1].reshape(-1), 'b+', label='Passed')\n",
        "plt.plot(X[neg,0].reshape(-1), X[neg,1].reshape(-1), 'ro', label='Failed')"
      ],
      "metadata": {
        "colab": {
          "base_uri": "https://localhost:8080/",
          "height": 283
        },
        "id": "Uf7z_xV-XKAC",
        "outputId": "e4cfca5c-4cb6-4ae7-94f0-726f108c8dbc"
      },
      "execution_count": 29,
      "outputs": [
        {
          "output_type": "execute_result",
          "data": {
            "text/plain": [
              "[<matplotlib.lines.Line2D at 0x7fb55c3d63a0>]"
            ]
          },
          "metadata": {},
          "execution_count": 29
        },
        {
          "output_type": "display_data",
          "data": {
            "text/plain": [
              "<Figure size 432x288 with 1 Axes>"
            ],
            "image/png": "[encoded data removed]"
          },
          "metadata": {
            "needs_background": "light"
          }
        }
      ]
    },
    {
      "cell_type": "markdown",
      "source": [
        "### 3) 학습"
      ],
      "metadata": {
        "id": "8jmtkPzzXmos"
      }
    },
    {
      "cell_type": "code",
      "source": [
        "from sklearn.preprocessing import PolynomialFeatures\n",
        "degree = 6\n",
        "poly_features = PolynomialFeatures(degree=degree, include_bias=False)\n",
        "X_poly = poly_features.fit_transform(X)\n",
        "\n",
        "print (X[0])\n",
        "print (X_poly[0].shape)"
      ],
      "metadata": {
        "colab": {
          "base_uri": "https://localhost:8080/"
        },
        "id": "BXQpuQPjXosx",
        "outputId": "eb499175-a546-4081-a6ce-c5850380c076"
      },
      "execution_count": 31,
      "outputs": [
        {
          "output_type": "stream",
          "name": "stdout",
          "text": [
            "[0.051267 0.69956 ]\n",
            "(27,)\n"
          ]
        }
      ]
    },
    {
      "cell_type": "code",
      "source": [
        "from sklearn.preprocessing import PolynomialFeatures\n",
        "degree = 2\n",
        "poly_features = PolynomialFeatures(degree=degree, include_bias=False)\n",
        "X_poly = poly_features.fit_transform(X)\n",
        "\n",
        "print (X[0])\n",
        "print (X_poly[0])\n",
        "print (X_poly[0].shape)"
      ],
      "metadata": {
        "colab": {
          "base_uri": "https://localhost:8080/"
        },
        "id": "5mBw1a_iYN-x",
        "outputId": "1723d084-6e5e-4982-c5a2-b0ef74b36e0d"
      },
      "execution_count": 32,
      "outputs": [
        {
          "output_type": "stream",
          "name": "stdout",
          "text": [
            "[0.051267 0.69956 ]\n",
            "[0.051267   0.69956    0.00262831 0.03586434 0.48938419]\n",
            "(5,)\n"
          ]
        }
      ]
    },
    {
      "cell_type": "code",
      "source": [
        "from sklearn.linear_model import LogisticRegression\n",
        "\n",
        "log_reg = LogisticRegression(penalty='l2', solver='liblinear', C=1e-1)\n",
        "log_reg.fit(X_poly, y)"
      ],
      "metadata": {
        "colab": {
          "base_uri": "https://localhost:8080/"
        },
        "id": "3dQI4UyQYa87",
        "outputId": "e491c0c0-26dc-4146-a5d9-912d396405a3"
      },
      "execution_count": 40,
      "outputs": [
        {
          "output_type": "execute_result",
          "data": {
            "text/plain": [
              "LogisticRegression(C=0.1, solver='liblinear')"
            ]
          },
          "metadata": {},
          "execution_count": 40
        }
      ]
    },
    {
      "cell_type": "markdown",
      "source": [
        "### 4) decision boundary"
      ],
      "metadata": {
        "id": "thaXmoWtbTIM"
      }
    },
    {
      "cell_type": "code",
      "source": [
        "u = np.linspace(-1, 1.5, 300)\n",
        "v = np.linspace(-1, 1.5, 300)\n",
        "z = np.zeros((len(u), len(v)))\n",
        "\n",
        "for i in range(len(u)):\n",
        "  a=[]\n",
        "  for j in range(len(v)):\n",
        "    a.append(np.array([u[i], v[j]]))\n",
        "\n",
        "  my_data = poly_features.fit_transform( a )\n",
        "  z[i] = log_reg.predict( my_data )\n",
        "\n",
        "plt.contour(u,v,z,0)\n",
        "\n",
        "plt.plot(X[pos,0].reshape(-1), X[pos,1].reshape(-1), 'b+', label='Passed')\n",
        "plt.plot(X[neg,0].reshape(-1), X[neg,1].reshape(-1), 'ro', label='Failed')\n",
        "plt.xlabel(\"Microchip Test 1\")\n",
        "plt.ylabel(\"Microchip Test 2\")\n",
        "plt.legend(loc='upper right')\n",
        "plt.show()"
      ],
      "metadata": {
        "colab": {
          "base_uri": "https://localhost:8080/",
          "height": 320
        },
        "id": "wfEaQmhObXaq",
        "outputId": "34935f26-7c08-4948-c3c7-6ab90394ec02"
      },
      "execution_count": 43,
      "outputs": [
        {
          "output_type": "stream",
          "name": "stderr",
          "text": [
            "<ipython-input-43-9c4f5248ad98>:13: UserWarning: No contour levels were found within the data range.\n",
            "  plt.contour(u,v,z,0)\n"
          ]
        },
        {
          "output_type": "display_data",
          "data": {
            "text/plain": [
              "<Figure size 432x288 with 1 Axes>"
            ],
            "image/png": "[encoded data removed]"
          },
          "metadata": {
            "needs_background": "light"
          }
        }
      ]
    },
    {
      "cell_type": "markdown",
      "source": [
        "### 5) 로지스틱 회귀의 성능 측정법"
      ],
      "metadata": {
        "id": "Tzcjhi27eLb6"
      }
    },
    {
      "cell_type": "code",
      "source": [
        "y_pred=log_reg.predict(X_poly)\n",
        "print (y_pred)\n",
        "\n",
        "from sklearn.metrics import confusion_matrix\n",
        "conf_mat = confusion_matrix(y, y_pred)\n",
        "print (conf_mat)\n",
        "plt.matshow(conf_mat, cmap=plt.cm.gray)\n",
        "plt.show()\n",
        "\n",
        "from sklearn.metrics import precision_score, recall_score\n",
        "print (\"precision_score: \", precision_score(y, y_pred))\n",
        "print (\"recall_score: \", recall_score(y, y_pred))\n",
        "\n",
        "from sklearn.metrics import f1_score\n",
        "print (\"F1_score: \", f1_score(y, y_pred))"
      ],
      "metadata": {
        "colab": {
          "base_uri": "https://localhost:8080/",
          "height": 440
        },
        "id": "4DHBLw_HePOC",
        "outputId": "5b5278aa-dc53-4802-9638-576d1e003fc7"
      },
      "execution_count": 46,
      "outputs": [
        {
          "output_type": "stream",
          "name": "stdout",
          "text": [
            "[0 1 1 1 1 1 1 1 1 0 0 0 0 0 0 0 1 0 1 0 0 1 1 1 1 0 0 0 1 0 0 0 1 1 1 1 1\n",
            " 1 1 1 1 0 0 0 0 0 0 1 0 0 1 1 1 1 1 1 1 1 0 0 0 0 0 0 0 0 0 0 0 0 0 0 0 0\n",
            " 0 0 0 0 0 0 0 1 0 1 0 0 0 0 0 0 0 0 0 0 0 0 0 0 0 0 0 0 0 0 1 0 1 1 0 0 0\n",
            " 0 0 0 0 0 0 0]\n",
            "[[55  5]\n",
            " [25 33]]\n"
          ]
        },
        {
          "output_type": "display_data",
          "data": {
            "text/plain": [
              "<Figure size 288x288 with 1 Axes>"
            ],
            "image/png": "[encoded data removed]"
          },
          "metadata": {
            "needs_background": "light"
          }
        },
        {
          "output_type": "stream",
          "name": "stdout",
          "text": [
            "precision_score:  0.868421052631579\n",
            "recall_score:  0.5689655172413793\n",
            "F1_score:  0.6875000000000001\n"
          ]
        }
      ]
    },
    {
      "cell_type": "code",
      "source": [
        "y_scores = log_reg.decision_function(X_poly)\n",
        "print (y_scores)"
      ],
      "metadata": {
        "colab": {
          "base_uri": "https://localhost:8080/"
        },
        "id": "Dqj7-etPf8Ky",
        "outputId": "4b20676e-55d1-4b9d-e549-1bcd2f9b0b92"
      },
      "execution_count": 47,
      "outputs": [
        {
          "output_type": "stream",
          "name": "stdout",
          "text": [
            "[-0.00517655  0.02114767  0.02034891  0.05983077  0.02930306  0.05272572\n",
            "  0.08981836  0.07808667  0.04876573 -0.00171217 -0.08556557 -0.13153139\n",
            " -0.12404946 -0.18427165 -0.13487109 -0.04670332  0.02659333 -0.04240179\n",
            "  0.01824929 -0.00283934 -0.0367887   0.00146918  0.01157888  0.02324305\n",
            "  0.04867249 -0.05011405 -0.10682483 -0.2187675   0.07152535 -0.02171181\n",
            " -0.11162067 -0.02640976  0.03777551  0.08242427  0.09543552  0.11324859\n",
            "  0.08690546  0.10857233  0.10572989  0.01649149  0.04428477 -0.02707067\n",
            " -0.11607472 -0.003152   -0.11143649 -0.09467451 -0.24934733  0.01284108\n",
            " -0.14471094 -0.09243378  0.02234097  0.10017973  0.06769424  0.11278952\n",
            "  0.13029633  0.08245033  0.12269246  0.08484452 -0.16341557 -0.09337134\n",
            " -0.05089044 -0.22586004 -0.28600092 -0.21583266 -0.3034788  -0.4038523\n",
            " -0.2842659  -0.37968839 -0.3509321  -0.280453   -0.3172939  -0.30227118\n",
            " -0.32424925 -0.30997975 -0.25791986 -0.15364118 -0.06798362 -0.07953108\n",
            " -0.15350355 -0.11387173 -0.03172968  0.02832465 -0.02087389  0.0371815\n",
            " -0.13300355 -0.03805085 -0.06262446 -0.10480984 -0.00921516 -0.100309\n",
            " -0.12147478 -0.04962028 -0.05429119 -0.11665896 -0.13256007 -0.21133\n",
            " -0.30854578 -0.19646355 -0.3955432  -0.42479583 -0.28680152 -0.494538\n",
            " -0.02149658 -0.07542189  0.05532879 -0.01244883  0.04193841  0.10605444\n",
            " -0.00828271 -0.07044814 -0.10837606 -0.07514538 -0.1105044  -0.07658175\n",
            " -0.00729209 -0.16593824 -0.15135469 -0.10360117]\n"
          ]
        }
      ]
    },
    {
      "cell_type": "code",
      "source": [
        "from sklearn.metrics import roc_curve\n",
        "fpr, tpr, thresholds = roc_curve(y, y_scores)\n",
        "\n",
        "def plot_roc_curve(fpr, tpr, label=None):\n",
        "  plt.plot(fpr, tpr, linewidth=2, label=label)\n",
        "  plt.plot([0,1], [0,1], 'k--')\n",
        "  plt.axis([0,1,0,1])\n",
        "  plt.xlabel('FPR')\n",
        "  plt.ylabel('TPR')\n",
        "plot_roc_curve(fpr, tpr)\n",
        "plt.show()\n",
        "\n",
        "from sklearn.metrics import roc_auc_score\n",
        "print (\"roc_auc_score: \", roc_auc_score(y, y_scores))"
      ],
      "metadata": {
        "colab": {
          "base_uri": "https://localhost:8080/",
          "height": 301
        },
        "id": "QIu9km26gEra",
        "outputId": "c3788a93-3e37-4143-cb15-bf8557decba4"
      },
      "execution_count": 49,
      "outputs": [
        {
          "output_type": "display_data",
          "data": {
            "text/plain": [
              "<Figure size 432x288 with 1 Axes>"
            ],
            "image/png": "[encoded data removed]"
          },
          "metadata": {
            "needs_background": "light"
          }
        },
        {
          "output_type": "stream",
          "name": "stdout",
          "text": [
            "roc_auc_score:  0.8209770114942528\n"
          ]
        }
      ]
    }
  ]
}